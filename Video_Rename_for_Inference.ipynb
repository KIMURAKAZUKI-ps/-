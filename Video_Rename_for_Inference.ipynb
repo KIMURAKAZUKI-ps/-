{
  "nbformat": 4,
  "nbformat_minor": 0,
  "metadata": {
    "colab": {
      "provenance": [],
      "include_colab_link": true
    },
    "kernelspec": {
      "name": "python3",
      "display_name": "Python 3"
    },
    "language_info": {
      "name": "python"
    }
  },
  "cells": [
    {
      "cell_type": "markdown",
      "metadata": {
        "id": "view-in-github",
        "colab_type": "text"
      },
      "source": [
        "<a href=\"https://colab.research.google.com/github/KIMURAKAZUKI-ps/-/blob/main/Video_Rename_for_Inference.ipynb\" target=\"_parent\"><img src=\"https://colab.research.google.com/assets/colab-badge.svg\" alt=\"Open In Colab\"/></a>"
      ]
    },
    {
      "cell_type": "markdown",
      "source": [
        "# 日付が記入されたフォルダに格納されている複数の動画を各動画の動画時間を考慮した動画名にリネームするツール"
      ],
      "metadata": {
        "id": "wiyAywVhPxYW"
      }
    },
    {
      "cell_type": "markdown",
      "source": [
        "### ドライブのマウント\n",
        "以下のセルの左側にカーソルを合わせ、実行する"
      ],
      "metadata": {
        "id": "uH4_z4s5HRlT"
      }
    },
    {
      "cell_type": "code",
      "execution_count": null,
      "metadata": {
        "id": "kYyc_XYKckWj",
        "outputId": "95d1723f-c61d-44c4-cb67-7c59832aa943",
        "colab": {
          "base_uri": "https://localhost:8080/"
        }
      },
      "outputs": [
        {
          "output_type": "stream",
          "name": "stdout",
          "text": [
            "Mounted at /content/drive\n"
          ]
        }
      ],
      "source": [
        "# Googleドライブのマウント\n",
        "from google.colab import drive\n",
        "drive.mount('/content/drive')"
      ]
    },
    {
      "cell_type": "code",
      "source": [
        "import cv2\n",
        "import os\n",
        "import glob\n",
        "import shutil\n",
        "from datetime import datetime, timedelta\n",
        "import subprocess"
      ],
      "metadata": {
        "id": "970dT02ix9BI"
      },
      "execution_count": null,
      "outputs": []
    },
    {
      "cell_type": "markdown",
      "source": [
        "# ユーザー設定セル\n",
        "ユーザー設定セルの各変数についてやこのツールの説明は[こちら](https://www.notion.so/present-square/SC-Readme-SmartCounterCycleTools-3bc149dfba8a4947b201043d100a5cb5?pvs=4#08c916f377be47869782fd6d7f6fe546)"
      ],
      "metadata": {
        "id": "EeRS130EGC8o"
      }
    },
    {
      "cell_type": "code",
      "source": [
        "# @markdown 地点フォルダまでのパス\n",
        "FOLDER_PATH = \"/content/drive/Shareddrives/11_SmartCounter_\\u6B69\\u884C\\u8005_\\u30AF\\u30E9\\u30A4\\u30A2\\u30F3\\u30C8\\u5225_\\u3042/17_NTT\\u6771\\u65E5\\u672C\\uFF08\\u76DB\\u5CA1\\u5E02\\u8A08\\u6E2C\\uFF09/2023\\u5E7410\\u6708_\\u76DB\\u5CA1\\u5E02\\u30AF\\u30E9\\u30D5\\u30C8\\u30D2\\u3099\\u30FC\\u30EB\\u30A4\\u30D8\\u3099\\u30F3\\u30C8\\u4EA4\\u901A\\u91CF\" #@param {type:\"string\"}\n",
        "# @markdown 地点名\n",
        "PLACE_NAME = \"NTT_\\u76DB\\u5CA1202310\" #@param {type:\"string\"}\n",
        "# @markdown 何分ごとに動画が分割されているか（分）※実際の時刻上での長さ\n",
        "DIVIDED_TIME = \"60\" # @param [\"\\u4E0D\\u660E\"] {allow-input: true}\n"
      ],
      "metadata": {
        "id": "SY3nItHnyGK7"
      },
      "execution_count": null,
      "outputs": []
    },
    {
      "cell_type": "markdown",
      "source": [
        "# 実行セル"
      ],
      "metadata": {
        "id": "v8CBln6GHM9f"
      }
    },
    {
      "cell_type": "code",
      "source": [
        "def strhms_2_int(hms):\n",
        "  \"\"\"\n",
        "  時分秒の形式の文字列（HHMMSS）を整数の時間、分、秒に変換する関数\n",
        "\n",
        "  Parameters:\n",
        "  - hms (str): 時分秒を示す文字列（例：\"123456\" -> 12時34分56秒）\n",
        "\n",
        "  Returns:\n",
        "  - hour (int): 時間\n",
        "  - min (int): 分\n",
        "  - sec (int): 秒\n",
        "  \"\"\"\n",
        "  hour = int(hms[:2])     # 時間部分を取得して整数に変換\n",
        "  min = int(hms[2:4])     # 分部分を取得して整数に変換\n",
        "  sec = int(hms[4:])      # 秒部分を取得して整数に変換\n",
        "  return hour, min, sec"
      ],
      "metadata": {
        "id": "TAEoMnpo0ZlG"
      },
      "execution_count": null,
      "outputs": []
    },
    {
      "cell_type": "code",
      "source": [
        "# 日付と開始時刻の情報を保持するための辞書\n",
        "info = {}\n",
        "\n",
        "# \"引数１：1_受領データ/01_動画\" 以下の日付のフォルダを取得し、日付順にソートする\n",
        "date_folders = sorted(glob.glob(os.path.join(FOLDER_PATH, \"11_受領データ\", \"01_動画\", \"*\")))\n",
        "for date_folder in date_folders:\n",
        "  date = os.path.basename(date_folder)\n",
        "\n",
        "  # フォルダ名が8桁でない場合はエラーとする\n",
        "  if not len(date) == 8:\n",
        "    print(\"フォルダ名の日付が8桁（YYYYMMDD）ではありません。変更してください。\")\n",
        "    break\n",
        "\n",
        "  # 正しい開始時刻が入力されるまでループ\n",
        "  while True:\n",
        "\n",
        "    # 開始時刻の入力を促す\n",
        "    start_time = input(f\"{date}の開始時刻を6桁で入力してください（半角数字）：\")\n",
        "\n",
        "    # 入力された開始時刻が6桁でない場合はエラーとする\n",
        "    if not len(start_time) == 6:\n",
        "      print(\"6桁で入力されていません。もう一度入力してください。\")\n",
        "      continue\n",
        "\n",
        "    # 時分秒の形式の文字列を整数の時間、分、秒に変換\n",
        "    hour, min, sec = strhms_2_int(start_time)\n",
        "\n",
        "    # 時間、分、秒が正しい範囲にあるかチェックする\n",
        "    if not (0 <= hour < 24):\n",
        "      print(\"時が0から23の間にないので、入力が認められません。もう一度入力してください。\")\n",
        "      continue\n",
        "    if not (0 <= min < 60):\n",
        "      print(\"分が0から60の間にないので、入力が認められません。もう一度入力してください。\")\n",
        "      continue\n",
        "    if not (0 <=sec < 60):\n",
        "      print(\"秒が0から60の間にないので、入力が認められません。もう一度入力してください。\")\n",
        "      continue\n",
        "\n",
        "    # 正しい開始時刻が入力された場合はループを抜ける\n",
        "    break\n",
        "\n",
        "  # 日付をキーとして、開始時刻を辞書に保存する\n",
        "  info[f\"{date}\"] = start_time\n",
        "\n"
      ],
      "metadata": {
        "id": "FciHLI9VohAO",
        "colab": {
          "base_uri": "https://localhost:8080/"
        },
        "outputId": "158551a4-60d8-4a9b-b836-4a0903d6d0d3"
      },
      "execution_count": null,
      "outputs": [
        {
          "name": "stdout",
          "output_type": "stream",
          "text": [
            "20231007の開始時刻を6桁で入力してください（半角数字）：100000\n",
            "20231008の開始時刻を6桁で入力してください（半角数字）：090000\n"
          ]
        }
      ]
    },
    {
      "cell_type": "code",
      "source": [
        "# 各日付のフォルダに対して処理を行う\n",
        "for date_folder in date_folders:\n",
        "  start_date = os.path.basename(date_folder)   # フォルダ名から日付を取得\n",
        "  start_time = info[f\"{start_date}\"]           # 開始時刻を取得\n",
        "\n",
        "  # 当該日付の動画ファイルを取得し、名前順にソートする\n",
        "  videos = sorted(glob.glob(os.path.join(date_folder, \"*.*\")))\n",
        "  print(videos)\n",
        "\n",
        "  # 各動画ファイルに対して処理を行う\n",
        "  for i in range(len(videos)):\n",
        "    video_path = videos[i]\n",
        "\n",
        "    # ディレクトリは処理対象外とする\n",
        "    if os.path.isdir(video_path):\n",
        "      continue\n",
        "\n",
        "    # 2番目以降の動画の場合、前の動画の終了時刻を開始時刻とする\n",
        "    if not i == 0:\n",
        "      start_time = end_time\n",
        "\n",
        "    file_name = os.path.basename(video_path)\n",
        "    extension = file_name.split(\".\")[-1] # 元動画の拡張子\n",
        "    if len(extension.split(\" \")) > 1:\n",
        "        extension = extension.split(\" \")[0]\n",
        "\n",
        "    # start_timeを秒数にする\n",
        "    hour1, min1, sec1 = strhms_2_int(start_time)\n",
        "    start_sec = (hour1 * 3600) + (min1 * 60) + sec1\n",
        "\n",
        "    # 実動画時間の算出\n",
        "    cap = cv2.VideoCapture(video_path)\n",
        "    frame_count = cap.get(cv2.CAP_PROP_FRAME_COUNT) # フレーム数の検出\n",
        "    fps = cap.get(cv2.CAP_PROP_FPS) # fps値の検出\n",
        "    video_length = round(frame_count / fps) # フレーム数とfps値から動画の長さを算出(seconds)\n",
        "    print(video_length)\n",
        "    print(\"動画の時間：{}分\".format(video_length/60))\n",
        "    cap.release()\n",
        "\n",
        "    # 終了日時の算出\n",
        "    if DIVIDED_TIME == \"不明\":\n",
        "        total_sec = start_sec + video_length # 開始時刻に動画の時間を加算する\n",
        "    else:\n",
        "        real_time = int(DIVIDED_TIME)\n",
        "        real_time_sec = real_time * 60\n",
        "        total_sec = start_sec + real_time_sec\n",
        "\n",
        "    if total_sec > 86399: # 23:59:59よりも大きい場合\n",
        "      total_sec = total_sec - 86399\n",
        "      end_date = (datetime.strptime(start_date, \"%Y%m%d\") + timedelta(days=1)).strftime(\"%Y%m%d\") # start_timeから1日加算し、str型に変更\n",
        "    else:\n",
        "      end_date = start_date\n",
        "\n",
        "    # 終了時刻をHHMMSSの形式の文字列に変換\n",
        "    hour2 = total_sec // 3600\n",
        "    min2 = (total_sec % 3600) // 60\n",
        "    sec2 = (total_sec % 3600) % 60\n",
        "    end_time = \"{:02d}{:02d}{:02d}\".format(hour2, min2, sec2) # int型の時刻を6桁の文字列の時刻へ変換\n",
        "\n",
        "    # コピー先の名称\n",
        "    to_video_name = f\"{PLACE_NAME}_{start_date}-{start_time}_{end_date}-{end_time}_{video_length}\"\n",
        "    print(f\"{to_video_name}という名称でコピーします。\")\n",
        "    to_path = os.path.join(FOLDER_PATH, \"12_計測用データ\", start_date, f\"{to_video_name}_.{extension}\")\n",
        "\n",
        "    # コピー先のディレクトリが存在しなければ作成\n",
        "    if not os.path.exists(os.path.join(FOLDER_PATH, \"12_計測用データ\", start_date)):\n",
        "      os.makedirs(os.path.join(FOLDER_PATH, \"12_計測用データ\", start_date))\n",
        "    print(to_path)\n",
        "\n",
        "    # 動画を新しい場所にコピー\n",
        "    # shutil.move(video_path, to_path)\n",
        "    shutil.copy(video_path, to_path)\n",
        "    print(\"finished\")\n",
        "    print(\"--------------------------------------------\")\n",
        "\n"
      ],
      "metadata": {
        "id": "fgiexdjvc0AM",
        "colab": {
          "base_uri": "https://localhost:8080/"
        },
        "outputId": "08864306-3b38-45cf-f949-8cdf050aef25"
      },
      "execution_count": null,
      "outputs": [
        {
          "output_type": "stream",
          "name": "stdout",
          "text": [
            "['/content/drive/Shareddrives/11_SmartCounter_歩行者_クライアント別_あ/17_NTT東日本（盛岡市計測）/2023年10月_盛岡市クラフトビールイベント交通量/11_受領データ/01_動画/20231007/2023-10-07_10-00-00.mp4', '/content/drive/Shareddrives/11_SmartCounter_歩行者_クライアント別_あ/17_NTT東日本（盛岡市計測）/2023年10月_盛岡市クラフトビールイベント交通量/11_受領データ/01_動画/20231007/2023-10-07_11-00-00.mp4', '/content/drive/Shareddrives/11_SmartCounter_歩行者_クライアント別_あ/17_NTT東日本（盛岡市計測）/2023年10月_盛岡市クラフトビールイベント交通量/11_受領データ/01_動画/20231007/2023-10-07_12-00-00.mp4', '/content/drive/Shareddrives/11_SmartCounter_歩行者_クライアント別_あ/17_NTT東日本（盛岡市計測）/2023年10月_盛岡市クラフトビールイベント交通量/11_受領データ/01_動画/20231007/2023-10-07_13-00-00.mp4', '/content/drive/Shareddrives/11_SmartCounter_歩行者_クライアント別_あ/17_NTT東日本（盛岡市計測）/2023年10月_盛岡市クラフトビールイベント交通量/11_受領データ/01_動画/20231007/2023-10-07_14-00-00.mp4', '/content/drive/Shareddrives/11_SmartCounter_歩行者_クライアント別_あ/17_NTT東日本（盛岡市計測）/2023年10月_盛岡市クラフトビールイベント交通量/11_受領データ/01_動画/20231007/2023-10-07_15-00-00.mp4']\n",
            "3600\n",
            "動画の時間：60.0分\n",
            "NTT_盛岡202310_20231007-100000_20231007-110000_3600という名称でコピーします。\n",
            "/content/drive/Shareddrives/11_SmartCounter_歩行者_クライアント別_あ/17_NTT東日本（盛岡市計測）/2023年10月_盛岡市クラフトビールイベント交通量/12_計測用データ/20231007/NTT_盛岡202310_20231007-100000_20231007-110000_3600_.mp4\n",
            "finished\n",
            "--------------------------------------------\n",
            "3600\n",
            "動画の時間：60.0分\n",
            "NTT_盛岡202310_20231007-110000_20231007-120000_3600という名称でコピーします。\n",
            "/content/drive/Shareddrives/11_SmartCounter_歩行者_クライアント別_あ/17_NTT東日本（盛岡市計測）/2023年10月_盛岡市クラフトビールイベント交通量/12_計測用データ/20231007/NTT_盛岡202310_20231007-110000_20231007-120000_3600_.mp4\n",
            "finished\n",
            "--------------------------------------------\n",
            "3596\n",
            "動画の時間：59.93333333333333分\n",
            "NTT_盛岡202310_20231007-120000_20231007-130000_3596という名称でコピーします。\n",
            "/content/drive/Shareddrives/11_SmartCounter_歩行者_クライアント別_あ/17_NTT東日本（盛岡市計測）/2023年10月_盛岡市クラフトビールイベント交通量/12_計測用データ/20231007/NTT_盛岡202310_20231007-120000_20231007-130000_3596_.mp4\n",
            "finished\n",
            "--------------------------------------------\n",
            "3586\n",
            "動画の時間：59.766666666666666分\n",
            "NTT_盛岡202310_20231007-130000_20231007-140000_3586という名称でコピーします。\n",
            "/content/drive/Shareddrives/11_SmartCounter_歩行者_クライアント別_あ/17_NTT東日本（盛岡市計測）/2023年10月_盛岡市クラフトビールイベント交通量/12_計測用データ/20231007/NTT_盛岡202310_20231007-130000_20231007-140000_3586_.mp4\n",
            "finished\n",
            "--------------------------------------------\n",
            "3577\n",
            "動画の時間：59.61666666666667分\n",
            "NTT_盛岡202310_20231007-140000_20231007-150000_3577という名称でコピーします。\n",
            "/content/drive/Shareddrives/11_SmartCounter_歩行者_クライアント別_あ/17_NTT東日本（盛岡市計測）/2023年10月_盛岡市クラフトビールイベント交通量/12_計測用データ/20231007/NTT_盛岡202310_20231007-140000_20231007-150000_3577_.mp4\n",
            "finished\n",
            "--------------------------------------------\n",
            "3600\n",
            "動画の時間：60.0分\n",
            "NTT_盛岡202310_20231007-150000_20231007-160000_3600という名称でコピーします。\n",
            "/content/drive/Shareddrives/11_SmartCounter_歩行者_クライアント別_あ/17_NTT東日本（盛岡市計測）/2023年10月_盛岡市クラフトビールイベント交通量/12_計測用データ/20231007/NTT_盛岡202310_20231007-150000_20231007-160000_3600_.mp4\n",
            "finished\n",
            "--------------------------------------------\n",
            "['/content/drive/Shareddrives/11_SmartCounter_歩行者_クライアント別_あ/17_NTT東日本（盛岡市計測）/2023年10月_盛岡市クラフトビールイベント交通量/11_受領データ/01_動画/20231008/2023-10-08_09-00-00.mp4', '/content/drive/Shareddrives/11_SmartCounter_歩行者_クライアント別_あ/17_NTT東日本（盛岡市計測）/2023年10月_盛岡市クラフトビールイベント交通量/11_受領データ/01_動画/20231008/2023-10-08_10-00-00.mp4', '/content/drive/Shareddrives/11_SmartCounter_歩行者_クライアント別_あ/17_NTT東日本（盛岡市計測）/2023年10月_盛岡市クラフトビールイベント交通量/11_受領データ/01_動画/20231008/2023-10-08_11-00-00.mp4', '/content/drive/Shareddrives/11_SmartCounter_歩行者_クライアント別_あ/17_NTT東日本（盛岡市計測）/2023年10月_盛岡市クラフトビールイベント交通量/11_受領データ/01_動画/20231008/2023-10-08_12-00-00.mp4', '/content/drive/Shareddrives/11_SmartCounter_歩行者_クライアント別_あ/17_NTT東日本（盛岡市計測）/2023年10月_盛岡市クラフトビールイベント交通量/11_受領データ/01_動画/20231008/2023-10-08_13-00-00.mp4', '/content/drive/Shareddrives/11_SmartCounter_歩行者_クライアント別_あ/17_NTT東日本（盛岡市計測）/2023年10月_盛岡市クラフトビールイベント交通量/11_受領データ/01_動画/20231008/2023-10-08_14-00-00.mp4', '/content/drive/Shareddrives/11_SmartCounter_歩行者_クライアント別_あ/17_NTT東日本（盛岡市計測）/2023年10月_盛岡市クラフトビールイベント交通量/11_受領データ/01_動画/20231008/2023-10-08_15-00-00.mp4']\n",
            "3590\n",
            "動画の時間：59.833333333333336分\n",
            "NTT_盛岡202310_20231008-090000_20231008-100000_3590という名称でコピーします。\n",
            "/content/drive/Shareddrives/11_SmartCounter_歩行者_クライアント別_あ/17_NTT東日本（盛岡市計測）/2023年10月_盛岡市クラフトビールイベント交通量/12_計測用データ/20231008/NTT_盛岡202310_20231008-090000_20231008-100000_3590_.mp4\n",
            "finished\n",
            "--------------------------------------------\n",
            "3600\n",
            "動画の時間：60.0分\n",
            "NTT_盛岡202310_20231008-100000_20231008-110000_3600という名称でコピーします。\n",
            "/content/drive/Shareddrives/11_SmartCounter_歩行者_クライアント別_あ/17_NTT東日本（盛岡市計測）/2023年10月_盛岡市クラフトビールイベント交通量/12_計測用データ/20231008/NTT_盛岡202310_20231008-100000_20231008-110000_3600_.mp4\n",
            "finished\n",
            "--------------------------------------------\n",
            "3600\n",
            "動画の時間：60.0分\n",
            "NTT_盛岡202310_20231008-110000_20231008-120000_3600という名称でコピーします。\n",
            "/content/drive/Shareddrives/11_SmartCounter_歩行者_クライアント別_あ/17_NTT東日本（盛岡市計測）/2023年10月_盛岡市クラフトビールイベント交通量/12_計測用データ/20231008/NTT_盛岡202310_20231008-110000_20231008-120000_3600_.mp4\n",
            "finished\n",
            "--------------------------------------------\n",
            "3585\n",
            "動画の時間：59.75分\n",
            "NTT_盛岡202310_20231008-120000_20231008-130000_3585という名称でコピーします。\n",
            "/content/drive/Shareddrives/11_SmartCounter_歩行者_クライアント別_あ/17_NTT東日本（盛岡市計測）/2023年10月_盛岡市クラフトビールイベント交通量/12_計測用データ/20231008/NTT_盛岡202310_20231008-120000_20231008-130000_3585_.mp4\n",
            "finished\n",
            "--------------------------------------------\n",
            "3589\n",
            "動画の時間：59.81666666666667分\n",
            "NTT_盛岡202310_20231008-130000_20231008-140000_3589という名称でコピーします。\n",
            "/content/drive/Shareddrives/11_SmartCounter_歩行者_クライアント別_あ/17_NTT東日本（盛岡市計測）/2023年10月_盛岡市クラフトビールイベント交通量/12_計測用データ/20231008/NTT_盛岡202310_20231008-130000_20231008-140000_3589_.mp4\n",
            "finished\n",
            "--------------------------------------------\n",
            "3590\n",
            "動画の時間：59.833333333333336分\n",
            "NTT_盛岡202310_20231008-140000_20231008-150000_3590という名称でコピーします。\n",
            "/content/drive/Shareddrives/11_SmartCounter_歩行者_クライアント別_あ/17_NTT東日本（盛岡市計測）/2023年10月_盛岡市クラフトビールイベント交通量/12_計測用データ/20231008/NTT_盛岡202310_20231008-140000_20231008-150000_3590_.mp4\n",
            "finished\n",
            "--------------------------------------------\n",
            "3599\n",
            "動画の時間：59.983333333333334分\n",
            "NTT_盛岡202310_20231008-150000_20231008-160000_3599という名称でコピーします。\n",
            "/content/drive/Shareddrives/11_SmartCounter_歩行者_クライアント別_あ/17_NTT東日本（盛岡市計測）/2023年10月_盛岡市クラフトビールイベント交通量/12_計測用データ/20231008/NTT_盛岡202310_20231008-150000_20231008-160000_3599_.mp4\n",
            "finished\n",
            "--------------------------------------------\n"
          ]
        }
      ]
    },
    {
      "cell_type": "markdown",
      "source": [
        "コピー後の動画数の確認"
      ],
      "metadata": {
        "id": "D8AlZ4lgqBfG"
      }
    },
    {
      "cell_type": "code",
      "source": [
        "# 引数２ : '12_計測用データ'フォルダ内の日付フォルダを取得して処理を行う\n",
        "for date_path in glob.glob(os.path.join(FOLDER_PATH, '12_計測用データ', '*')):\n",
        "  num = 0     # 動画ファイルの数をカウントする変数\n",
        "  date = os.path.basename(date_path)    # 日付フォルダの名前を取得\n",
        "\n",
        "  # 'demo'フォルダは処理対象外としてスキップ\n",
        "  if date == \"demo\":\n",
        "    continue\n",
        "\n",
        "  print(date)   # 処理中の日付を表示\n",
        "\n",
        "  # 日付フォルダ内の動画ファイルを検索してカウント\n",
        "  for date_path in glob.glob(os.path.join(date_path ,\"*\")):\n",
        "    if os.path.isfile(date_path):\n",
        "      num += 1\n",
        "  print(f\"コピー後の動画数：{num}\")    # その日の動画ファイル数を表示"
      ],
      "metadata": {
        "id": "wl7TxDIAJTVE",
        "colab": {
          "base_uri": "https://localhost:8080/"
        },
        "outputId": "7a0dfc74-0df9-4b74-8e89-2e6a890a8ab9"
      },
      "execution_count": null,
      "outputs": [
        {
          "output_type": "stream",
          "name": "stdout",
          "text": [
            "20230913\n",
            "コピー後の動画数：13\n"
          ]
        }
      ]
    },
    {
      "cell_type": "code",
      "source": [
        "\n",
        "\n",
        "\n",
        "\n",
        "\n"
      ],
      "metadata": {
        "id": "jeFSm3eHJAPc"
      },
      "execution_count": null,
      "outputs": []
    }
  ]
}